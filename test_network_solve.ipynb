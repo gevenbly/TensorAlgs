{
  "nbformat": 4,
  "nbformat_minor": 0,
  "metadata": {
    "colab": {
      "name": "test_network_solve.ipynb",
      "private_outputs": true,
      "provenance": [],
      "collapsed_sections": [],
      "authorship_tag": "ABX9TyNon4+Rn5by/+EtXm+l0FGb",
      "include_colab_link": true
    },
    "kernelspec": {
      "name": "python3",
      "display_name": "Python 3"
    },
    "language_info": {
      "name": "python"
    }
  },
  "cells": [
    {
      "cell_type": "markdown",
      "metadata": {
        "id": "view-in-github",
        "colab_type": "text"
      },
      "source": [
        "<a href=\"https://colab.research.google.com/github/gevenbly/TensorAlgs/blob/main/test_network_solve.ipynb\" target=\"_parent\"><img src=\"https://colab.research.google.com/assets/colab-badge.svg\" alt=\"Open In Colab\"/></a>"
      ]
    },
    {
      "cell_type": "code",
      "metadata": {
        "id": "pMPtUYKeMTcQ"
      },
      "source": [
        "# uncomment code below if running locally\n",
        "\n",
        "# !git clone https://github.com/gevenbly/TensorAlgs\n",
        "# import os\n",
        "# os.chdir('/content/TensorAlgs')"
      ],
      "execution_count": null,
      "outputs": []
    },
    {
      "cell_type": "code",
      "metadata": {
        "id": "Tk-xMSNUI7vE"
      },
      "source": [
        "import numpy as np\n",
        "from typing import Optional, List, Union, Tuple\n",
        "from network_solve import (\n",
        "    call_solver, ord_to_ncon, ncon_to_weighted_adj, full_solve_complete,\n",
        "    greedy_cost_solve, greedy_size_solve)"
      ],
      "execution_count": null,
      "outputs": []
    },
    {
      "cell_type": "code",
      "metadata": {
        "id": "kyg5_fovI_-D"
      },
      "source": [
        "\"\"\"\n",
        "Unit tests for 'network_solve'\n",
        "\n",
        "- call_solver\n",
        "- ord_to_ncon\n",
        "- ncon_to_weighted_adj\n",
        "- full_solve_complete\n",
        "- greedy_cost_solve\n",
        "- greedy_size_solve\n",
        "\"\"\""
      ],
      "execution_count": null,
      "outputs": []
    },
    {
      "cell_type": "code",
      "metadata": {
        "id": "UhWoQMvyQpUz"
      },
      "source": [
        "# test call_solver\n",
        "chi = np.random.randint(2, 10)\n",
        "u = np.random.rand(chi, chi, chi, chi)\n",
        "w = np.random.rand(chi, chi, chi)\n",
        "ham = np.random.rand(chi, chi, chi, chi, chi, chi)\n",
        "tensors = [u, u, w, w, w, ham, u, u, w, w, w]\n",
        "connects = [[1, 3, 10, 11], [4, 7, 12, 13], [8, 10, -4], [11, 12, -5],\n",
        "            [13, 14, -6], [2, 5, 6, 3, 4, 7], [1, 2, 9, 17], [5, 6, 16, 15],\n",
        "            [8, 9, -1], [17, 16, -2], [15, 14, -3]]\n",
        "con_order, costs, is_optimal = call_solver(tensors, connects, max_branch=None)\n",
        "\n",
        "flat_connects = np.concatenate(connects)\n",
        "inds = np.sort(np.unique(flat_connects[flat_connects > 0]))\n",
        "ex_cost = np.log10(2 * chi**9 + 4 * chi**8 + 2 * chi**6 + 2 * chi**5)\n",
        "assert np.allclose(costs, ex_cost)\n",
        "assert is_optimal\n",
        "assert np.array_equal(inds, np.sort(con_order))"
      ],
      "execution_count": null,
      "outputs": []
    },
    {
      "cell_type": "code",
      "metadata": {
        "id": "I9orHjdhKwNR"
      },
      "source": [
        "# test ncon_to_weighted_adj\n",
        "N = 5\n",
        "chi = 4\n",
        "A = np.zeros([chi, chi])\n",
        "tensors = [A] * N\n",
        "dims = [tensor.shape for tensor in tensors]\n",
        "connects = [0] * N\n",
        "for k in range(N):\n",
        "  if k == 0:\n",
        "    connects[k] = [-1, 1]\n",
        "  elif k == (N - 1):\n",
        "    connects[k] = [k, -2]\n",
        "  else:\n",
        "    connects[k] = [k, k + 1]\n",
        "log_adj = ncon_to_weighted_adj(dims, connects)\n",
        "ex_log_adj = np.zeros([N, N])\n",
        "ex_log_adj[:(N - 1), 1:] = np.diag(np.log10(chi) * np.ones([N - 1]))\n",
        "ex_log_adj += ex_log_adj.T\n",
        "ex_log_adj[0, 0] = np.log10(chi)\n",
        "ex_log_adj[-1, -1] = np.log10(chi)\n",
        "assert np.allclose(log_adj, ex_log_adj)"
      ],
      "execution_count": null,
      "outputs": []
    },
    {
      "cell_type": "code",
      "metadata": {
        "id": "IZs9jvujQtFn"
      },
      "source": [
        "# test ord_to_ncon\n",
        "N = 8\n",
        "num_closed = 8\n",
        "num_open = 4 * N - 2 * num_closed\n",
        "cl_inds = 1 + np.arange(num_closed)\n",
        "op_inds = -1 - np.arange(num_open)\n",
        "connects = [0] * N\n",
        "perm = np.argsort(np.random.rand(4 * N))\n",
        "comb_inds = np.concatenate((op_inds, cl_inds, cl_inds))[perm]\n",
        "for k in range(N):\n",
        "  if k < (N - 1):\n",
        "    connect_temp = np.concatenate((comb_inds[4 * k:4 * (k + 1)],\n",
        "                                    [num_closed + k + 1, num_closed + k + 2]))\n",
        "  else:\n",
        "    connect_temp = np.concatenate(\n",
        "        (comb_inds[4 * k:4 * (k + 1)], [num_closed + k + 1, num_closed + 1]))\n",
        "  connects[k] = list(connect_temp[np.argsort(np.random.rand(6))])\n",
        "order = np.zeros([2, N - 1], dtype=int)\n",
        "for k in range(N - 1):\n",
        "  temp_loc = np.random.randint(0, N - k - 1)\n",
        "  order[0, k] = temp_loc\n",
        "  order[1, k] = np.random.randint(temp_loc + 1, N - k)\n",
        "con_order = ord_to_ncon(connects, order)\n",
        "assert np.array_equal(np.sort(con_order), np.arange(num_closed + N) + 1)"
      ],
      "execution_count": null,
      "outputs": []
    },
    {
      "cell_type": "code",
      "metadata": {
        "id": "TTLDm9_uRLno"
      },
      "source": [
        "# test greedy_size_solve\n",
        "N = 10\n",
        "log_adj = (1 + np.sin(range(N**2))).reshape(N, N)\n",
        "log_adj += log_adj.T\n",
        "order, cost = greedy_size_solve(log_adj)\n",
        "assert order.shape == (2, N - 1)\n",
        "assert isinstance(cost, float)\n",
        "\n",
        "d1 = 6\n",
        "d2 = 8\n",
        "N = 3\n",
        "log_adj = np.zeros([N, N])\n",
        "log_adj[0, 1] = d1\n",
        "log_adj[1, 2] = d2\n",
        "log_adj += log_adj.T\n",
        "order, cost = greedy_size_solve(log_adj)\n",
        "if d1 >= d2:\n",
        "  ex_order = np.array([[0, 0], [1, 1]])\n",
        "  ex_cost = d2 + np.log10(10**d1 + 1)\n",
        "else:\n",
        "  ex_order = np.array([[1, 0], [2, 1]])\n",
        "  ex_cost = d1 + np.log10(10**d2 + 1)\n",
        "assert np.array_equal(order, ex_order)\n",
        "assert np.allclose(ex_cost, cost)"
      ],
      "execution_count": null,
      "outputs": []
    },
    {
      "cell_type": "code",
      "metadata": {
        "id": "JunyyO20S4i4"
      },
      "source": [
        "# test greedy_cost_solve\n",
        "N = 12\n",
        "log_adj = (1 + np.sin(range(N**2))).reshape(N, N)\n",
        "log_adj += log_adj.T\n",
        "order, cost = greedy_cost_solve(log_adj)\n",
        "assert order.shape == (2, N - 1)\n",
        "assert isinstance(cost, float)\n",
        "\n",
        "d1 = 5\n",
        "d2 = 4\n",
        "d3 = 3\n",
        "N = 3\n",
        "log_adj = np.zeros([N, N])\n",
        "log_adj[0, 1] = d1\n",
        "log_adj[1, 2] = d2\n",
        "log_adj += log_adj.T\n",
        "log_adj[2, 2] = d3\n",
        "order, cost = greedy_cost_solve(log_adj)\n",
        "ex_order = np.array([[0, 0], [1, 1]])\n",
        "ex_cost = d1 + d2 + np.log10(1 + 10**(d3 - d1))\n",
        "assert np.array_equal(order, ex_order)\n",
        "assert np.allclose(ex_cost, cost)"
      ],
      "execution_count": null,
      "outputs": []
    },
    {
      "cell_type": "code",
      "metadata": {
        "id": "lJUOnRNsIegr"
      },
      "source": [
        "# test full_solve_complete\n",
        "N = 6\n",
        "log_adj = (1 + np.sin(range(N**2))).reshape(N, N)\n",
        "log_adj += log_adj.T\n",
        "order, cost, _ = full_solve_complete(log_adj)\n",
        "assert order.shape == (2, N - 1)\n",
        "assert isinstance(cost, float)\n",
        "\n",
        "d1 = 6\n",
        "N = 7\n",
        "log_adj = np.zeros([N, N])\n",
        "log_adj[:(N - 1), 1:] = np.diag(d1 * np.ones(N - 1))\n",
        "log_adj += log_adj.T\n",
        "log_adj[0, 0] = d1\n",
        "log_adj[-1, -1] = d1\n",
        "_, cost, is_optimal = full_solve_complete(log_adj)\n",
        "ex_cost = np.log10((N - 1) * 10**(3 * d1))\n",
        "assert np.allclose(ex_cost, cost)\n",
        "assert is_optimal\n",
        "\n",
        "cost_bound = 50\n",
        "max_branch = 500\n",
        "N = 7\n",
        "log_adj = (1 + np.sin(range(N**2))).reshape(N, N)\n",
        "log_adj += log_adj.T\n",
        "order, cost, _ = full_solve_complete(\n",
        "    log_adj, cost_bound=cost_bound, max_branch=max_branch)\n",
        "assert order.shape == (2, N - 1)\n",
        "assert isinstance(cost, float)"
      ],
      "execution_count": null,
      "outputs": []
    }
  ]
}