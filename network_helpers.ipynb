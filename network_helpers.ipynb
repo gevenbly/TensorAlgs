{
  "nbformat": 4,
  "nbformat_minor": 0,
  "metadata": {
    "colab": {
      "name": "network_helpers.ipynb",
      "provenance": [],
      "collapsed_sections": [],
      "authorship_tag": "ABX9TyOXf44H6HFh8mRFt4gWTo/O",
      "include_colab_link": true
    },
    "kernelspec": {
      "name": "python3",
      "display_name": "Python 3"
    },
    "language_info": {
      "name": "python"
    }
  },
  "cells": [
    {
      "cell_type": "markdown",
      "metadata": {
        "id": "view-in-github",
        "colab_type": "text"
      },
      "source": [
        "<a href=\"https://colab.research.google.com/github/gevenbly/TensorAlgs/blob/main/network_helpers.ipynb\" target=\"_parent\"><img src=\"https://colab.research.google.com/assets/colab-badge.svg\" alt=\"Open In Colab\"/></a>"
      ]
    },
    {
      "cell_type": "code",
      "metadata": {
        "id": "EeycxBSOe4a0"
      },
      "source": [
        "import numpy as np\n",
        "from numpy import linalg as LA\n",
        "from typing import Optional, List, Union, Tuple"
      ],
      "execution_count": null,
      "outputs": []
    },
    {
      "cell_type": "code",
      "metadata": {
        "id": "yBVc__pKcJAf"
      },
      "source": [
        "\"\"\"\n",
        "network_helpers\n",
        "\n",
        "- expand_dims\n",
        "- tprod\n",
        "- matricize\n",
        "- orthogonalize\n",
        "\"\"\""
      ],
      "execution_count": null,
      "outputs": []
    },
    {
      "cell_type": "code",
      "metadata": {
        "id": "JFyLeRo2ySgr"
      },
      "source": [
        "def expand_dims(tensor, new_dims):\n",
        "  \"\"\" \n",
        "  Expand the dims of a tensor by padding with zeros.\n",
        "  \"\"\"\n",
        "  old_dims = tensor.shape\n",
        "  dim_expand = [(0, max(new_dims[k] - old_dims[k],0)) for \n",
        "                k in range(tensor.ndim)]\n",
        "  \n",
        "  return np.pad(tensor, dim_expand)"
      ],
      "execution_count": null,
      "outputs": []
    },
    {
      "cell_type": "code",
      "metadata": {
        "id": "SpkfbcjLZ9Nd"
      },
      "source": [
        "def mkron(*mats):\n",
        "  \"\"\" \n",
        "  Multi-kron: extends the functionality of numpy kron to accept a list of \n",
        "  arbitrarily many matrices.\n",
        "  \"\"\"\n",
        "  final_mat = 1\n",
        "  for mat in mats:\n",
        "    final_mat = np.kron(final_mat, mat)\n",
        "  return final_mat"
      ],
      "execution_count": null,
      "outputs": []
    },
    {
      "cell_type": "code",
      "metadata": {
        "id": "G3Pwggt6yVtw"
      },
      "source": [
        "def tprod(*tensor_list, do_matricize=True):\n",
        "  \"\"\" \n",
        "  Tensor product for operators. Expands the functionality of `kron` to accept \n",
        "  tensors rather than just matrices, and to accept and arbitrary number of \n",
        "  inputs. The index ordering is defined such that if the inputs are Hermtian \n",
        "  matrices the the output tensor can be reshaped into a Hermitian matrix.\n",
        "  \"\"\"\n",
        "  \n",
        "  # take kron of each input sequentially\n",
        "  shapes_L = []\n",
        "  shapes_R = []\n",
        "  final_tensor = np.array(1.0, dtype=float)\n",
        "  for tensor in tensor_list:\n",
        "    shapes_L = shapes_L + list(tensor.shape[:(tensor.ndim//2)])\n",
        "    shapes_R = shapes_R + list(tensor.shape[(tensor.ndim//2):])\n",
        "    final_tensor = np.kron(final_tensor, matricize(tensor))\n",
        "\n",
        "  if do_matricize:\n",
        "    return final_tensor\n",
        "  else:\n",
        "    return final_tensor.reshape(shapes_L + shapes_R)"
      ],
      "execution_count": null,
      "outputs": []
    },
    {
      "cell_type": "code",
      "metadata": {
        "id": "_iIi3tdVyYKY"
      },
      "source": [
        "def matricize(tensor, partition=None):\n",
        "  \"\"\" Matricize an input tensor across some left/right partition. \"\"\"\n",
        "  \n",
        "  if partition is None:\n",
        "    partition = tensor.ndim // 2\n",
        "\n",
        "  size_L = np.prod(tensor.shape[:partition])\n",
        "  size_R = np.prod(tensor.shape[partition:])\n",
        " \n",
        "  return tensor.reshape(size_L, size_R)"
      ],
      "execution_count": null,
      "outputs": []
    },
    {
      "cell_type": "code",
      "metadata": {
        "id": "SwDSfpKJybMQ"
      },
      "source": [
        "def orthogonalize(tensor, partition=None):\n",
        "  \"\"\" Orthogonalize an input tensor across some left/right partition. \"\"\"\n",
        "\n",
        "  tshape = tensor.shape\n",
        "  ut, st, vt = LA.svd(matricize(tensor, partition=partition), \n",
        "                      full_matrices=False)\n",
        "\n",
        "  return (ut @ vt).reshape(tshape)"
      ],
      "execution_count": null,
      "outputs": []
    }
  ]
}